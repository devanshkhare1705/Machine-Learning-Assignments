{
  "nbformat": 4,
  "nbformat_minor": 0,
  "metadata": {
    "colab": {
      "provenance": []
    },
    "kernelspec": {
      "name": "python3",
      "display_name": "Python 3"
    },
    "language_info": {
      "name": "python"
    }
  },
  "cells": [
    {
      "cell_type": "code",
      "execution_count": null,
      "metadata": {
        "id": "_Hzof5ryRzuM"
      },
      "outputs": [],
      "source": [
        "from l2_distance import l2_distance\n",
        "from utils import *\n",
        "\n",
        "import matplotlib.pyplot as plt\n",
        "import numpy as np\n",
        "\n",
        "\n",
        "def knn(k, train_data, train_labels, valid_data):\n",
        "    \"\"\" Uses the supplied training inputs and labels to make\n",
        "    predictions for validation data using the K-nearest neighbours\n",
        "    algorithm.\n",
        "\n",
        "    Note: N_TRAIN is the number of training examples,\n",
        "          N_VALID is the number of validation examples,\n",
        "          M is the number of features per example.\n",
        "\n",
        "    :param k: The number of neighbours to use for classification\n",
        "    of a validation example.\n",
        "    :param train_data: N_TRAIN x M array of training data.\n",
        "    :param train_labels: N_TRAIN x 1 vector of training labels\n",
        "    corresponding to the examples in train_data (must be binary).\n",
        "    :param valid_data: N_VALID x M array of data to\n",
        "    predict classes for validation data.\n",
        "    :return: N_VALID x 1 vector of predicted labels for\n",
        "    the validation data.\n",
        "    \"\"\"\n",
        "    dist = l2_distance(valid_data.T, train_data.T)  #Make a list with the distances between validation and training data points.\n",
        "\n",
        "    nearest = np.argsort(dist, axis=1)[:, :k]  #Sort the distance along axis 1 from min to max. From the sorted array, take up to the kth nearest points.\n",
        "\n",
        "    train_labels = train_labels.reshape(-1) #reshape 2D array to 1D array. It is an Nx1 vector now.\n",
        "    valid_labels = train_labels[nearest]\n",
        "\n",
        "    valid_labels = (np.mean(valid_labels, axis=1) >= 0.5).astype(np.int)\n",
        "    valid_labels = valid_labels.reshape(-1, 1)\n",
        "\n",
        "    return valid_labels"
      ]
    },
    {
      "cell_type": "code",
      "source": [
        "\n",
        "\n",
        "def run_knn():\n",
        "    train_inputs, train_targets = load_train()\n",
        "    valid_inputs, valid_targets = load_valid()\n",
        "    test_inputs, test_targets = load_test()\n",
        "\n",
        "    #Validation set performance\n",
        "    k_values = [1,3,5,7,9]\n",
        "    val_accuracies = []\n",
        "\n",
        "    for k in k_values:\n",
        "        predicted_val_labels = knn(k, train_inputs, train_targets, valid_inputs)\n",
        "        val_classif_accu = valid_targets - predicted_val_labels\n",
        "        val_accuracies.append((len(val_classif_accu)-np.count_nonzero(val_classif_accu))/len(val_classif_accu))\n",
        "\n",
        "    print(\"K Values = \",k_values)\n",
        "    print(\"Validation Accuracy = \",val_accuracies)\n",
        "\n",
        "\n",
        "    #Plotting validation set peformance\n",
        "    plt.scatter(k_values,val_accuracies)\n",
        "    plt.xlabel(\"K\")\n",
        "    plt.ylabel(\"Validation Accuracy\")\n",
        "    plt.title(\"Validation Accuracy vs. K\")\n",
        "    plt.show()\n",
        "\n",
        "\n",
        "    #Test set performance\n",
        "    k_star = k_values[val_accuracies.index(max(val_accuracies))]\n",
        "    print(\"k_star =\", k_star)\n",
        "    print(\"k_star val accuracy = \", max(val_accuracies))\n",
        "\n",
        "    if k_star <= 2:\n",
        "        k_star_values = [k_star, k_star + 2]       #set of k values for testing\n",
        "    else:\n",
        "        k_star_values = [k_star - 2, k_star, k_star + 2]\n",
        "\n",
        "    test_accuracies = []\n",
        "\n",
        "    for k in k_star_values:\n",
        "        test_predictions = knn(k,train_inputs, train_targets, test_inputs)\n",
        "        test_classif_accu = test_targets - test_predictions\n",
        "        test_accuracies.append((len(test_classif_accu)-np.count_nonzero(test_classif_accu))/len(test_classif_accu))\n",
        "\n",
        "    print(\"Test Accuracies = \", test_accuracies)\n",
        "    print(\"k_star test accuracy =\", test_accuracies[k_star_values.index(k_star)])\n",
        "\n",
        "\n",
        "    return"
      ],
      "metadata": {
        "id": "snVikREbTHQr"
      },
      "execution_count": null,
      "outputs": []
    },
    {
      "cell_type": "code",
      "source": [
        "if __name__ == \"__main__\":\n",
        "    run_knn()"
      ],
      "metadata": {
        "id": "dTzdPRyNTMiV"
      },
      "execution_count": null,
      "outputs": []
    }
  ]
}